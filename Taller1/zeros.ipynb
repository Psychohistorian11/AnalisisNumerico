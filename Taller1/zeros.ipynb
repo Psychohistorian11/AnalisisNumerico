{
  "nbformat": 4,
  "nbformat_minor": 0,
  "metadata": {
    "colab": {
      "provenance": [],
      "authorship_tag": "ABX9TyPG/eHvcHEEpoBdNx6XcZHz",
      "include_colab_link": true
    },
    "kernelspec": {
      "name": "python3",
      "display_name": "Python 3"
    },
    "language_info": {
      "name": "python"
    }
  },
  "cells": [
    {
      "cell_type": "markdown",
      "metadata": {
        "id": "view-in-github",
        "colab_type": "text"
      },
      "source": [
        "<a href=\"https://colab.research.google.com/github/Psychohistorian11/AnalisisNumerico/blob/main/Taller1/zeros.ipynb\" target=\"_parent\"><img src=\"https://colab.research.google.com/assets/colab-badge.svg\" alt=\"Open In Colab\"/></a>"
      ]
    },
    {
      "cell_type": "code",
      "execution_count": 1,
      "metadata": {
        "id": "W3Lw-cz8mYJr"
      },
      "outputs": [],
      "source": [
        "import sympy as sp\n",
        "import numpy as np\n",
        "from termcolor import colored\n",
        "import matplotlib.pyplot as plt\n",
        "\n",
        "class Zeros:\n",
        "    def bisection(self, f, a, b, tol):\n",
        "        if f(a) * f(b) > 0:\n",
        "            print(f\"la función no cumple el teorema en: {a, b}\")\n",
        "        else:\n",
        "            i = 0\n",
        "            while abs(b - a) > tol:\n",
        "                c = (a + b) / 2\n",
        "                if f(a) * f(c) < 0:\n",
        "                    b = c\n",
        "                else:\n",
        "                    a = c\n",
        "                i += 1\n",
        "            print(f\"la solución por Bisección es: \\033[1;31m {c} \\033[0m y se necesitan \\033[1;31m {i}\\033[0m iteraciones\")\n",
        "            return\n",
        "\n",
        "    def positionFalse(self, f, a, b, tol):\n",
        "        if f(a) * f(b) > 0:\n",
        "            print(f\"la función no cumple el teorema en: {a, b}\")\n",
        "        else:\n",
        "            i = 0\n",
        "            c = a - f(a) * (a - b) / (f(a) - f(b))\n",
        "            while abs(f(c)) > tol:\n",
        "                c = a - f(a) * (a - b) / (f(a) - f(b))\n",
        "                if f(a) * f(c) < 0:\n",
        "                    b = c\n",
        "                else:\n",
        "                    a = c\n",
        "                i += 1\n",
        "            print(f\"la solución por Falsa Posición es: \\033[1;31m{c}\\033[0m y se necesitan \\033[1;31m{i}\\033[0m iteraciones\")\n",
        "            return\n",
        "\n",
        "    def newton(self,f, x0, tol, variable = None):\n",
        "          if not variable:\n",
        "            variable = sp.symbols('x')\n",
        "\n",
        "          df = sp.diff(f, variable)\n",
        "          xv = [x0]\n",
        "\n",
        "          next_x = sp.lambdify(variable, variable - f/df)\n",
        "          counter = 0\n",
        "          while True:\n",
        "              xv.append(next_x(xv[-1]))\n",
        "              counter += 1\n",
        "              if abs(xv[-1] - xv[-2]) < tol:\n",
        "                  break\n",
        "          print(f\"la solución por newton es: \\033[1;31m{xv[-1]}\\033[0m y se necesitan \\033[1;31m{counter}\\033[0m iteraciones\")\n",
        "          return\n",
        "\n",
        "    def secante(self, f, x0, x1, tol):\n",
        "              Error = abs(x1 - x0)\n",
        "              counter = 0\n",
        "              while Error > tol:\n",
        "                  xnext = x1 - f(x1) * (x0 - x1) / (f(x0) - f(x1))\n",
        "                  Error = abs(xnext - x0)\n",
        "                  x0 = x1\n",
        "                  x1 = xnext\n",
        "                  counter += 1\n",
        "              return print(f\"La solución por Secante es: \\033[1;31m{xnext}\\033[0m y se necesitan \\033[1;31m{counter}\\033[0m iteraciones\")\n"
      ]
    }
  ]
}