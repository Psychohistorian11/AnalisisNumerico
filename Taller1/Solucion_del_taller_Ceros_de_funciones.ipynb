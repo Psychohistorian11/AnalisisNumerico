{
  "nbformat": 4,
  "nbformat_minor": 0,
  "metadata": {
    "colab": {
      "provenance": [],
      "include_colab_link": true
    },
    "kernelspec": {
      "name": "python3",
      "display_name": "Python 3"
    },
    "language_info": {
      "name": "python"
    }
  },
  "cells": [
    {
      "cell_type": "markdown",
      "metadata": {
        "id": "view-in-github",
        "colab_type": "text"
      },
      "source": [
        "<a href=\"https://colab.research.google.com/github/Psychohistorian11/AnalisisNumerico/blob/main/Taller1/Solucion_del_taller_Ceros_de_funciones.ipynb\" target=\"_parent\"><img src=\"https://colab.research.google.com/assets/colab-badge.svg\" alt=\"Open In Colab\"/></a>"
      ]
    },
    {
      "cell_type": "markdown",
      "source": [
        "##Integrantes\n"
      ],
      "metadata": {
        "id": "eYGQMcpgU81b"
      }
    },
    {
      "cell_type": "markdown",
      "source": [
        "\n",
        "Daniel Camilo Lasso Castañeda\n",
        "\n",
        "Juan Esteban Valdes Ospina\n",
        "\n",
        "Cristian Jhoan Franco Raigosa"
      ],
      "metadata": {
        "id": "YKPH7M--Ye3R"
      }
    },
    {
      "cell_type": "markdown",
      "source": [
        "\n",
        "## Importar Objeto\n"
      ],
      "metadata": {
        "id": "534qAZj0DxKd"
      }
    },
    {
      "cell_type": "code",
      "source": [
        "import sympy as sp\n",
        "import numpy as np\n",
        "import matplotlib.pyplot as plt\n",
        "from zerosMethods import Zeros\n",
        "ze = Zeros()"
      ],
      "metadata": {
        "id": "MWmaUTF1qC_n"
      },
      "execution_count": 40,
      "outputs": []
    },
    {
      "cell_type": "markdown",
      "source": [
        "## Primer Ejercicio"
      ],
      "metadata": {
        "id": "-G4AumrwRViS"
      }
    },
    {
      "cell_type": "markdown",
      "source": [
        "\n",
        "El volumen $V$ de un líquido contenido en un tanque horizontal cilíndrico de radio $r$ y longitud $L$\n",
        "está relacionado con la profundidad del líquido $h$ por:\n",
        "\n",
        "$$V = [r^2cos^{-1} \\bigg(\\frac{r-h}{r} \\bigg) - (r-h) \\sqrt{2rh-h^{2}}]L$$\n",
        "\n",
        "\n",
        "Determine $h$ dados $r = 2m$, $L = 5m$ y $V = 8m^{3}$\n",
        "\n",
        "$a)$ Use un método Bisección\n",
        "\n",
        "$b)$ Use un método Newton\n",
        "\n",
        "$c)$ Use el método de la secante\n",
        "\n",
        "$d)$ Use el método de Falsa posición\n",
        "\n",
        "$$0 = [r^2cos^{-1} \\bigg(\\frac{r-h}{r} \\bigg) - (r-h) \\sqrt{2rh-h^{2}}]L - V $$\n"
      ],
      "metadata": {
        "id": "ZQ1u2_h2D7Z6"
      }
    },
    {
      "cell_type": "markdown",
      "source": [
        "### Iteración a mano\n",
        "\n",
        "$$0 = [20cos^{-1} \\bigg(\\frac{2-h}{2} \\bigg) - (2-h) \\sqrt{4h-h^{2}}(5)] - 8 $$"
      ],
      "metadata": {
        "id": "zbLxh3xDYNmb"
      }
    },
    {
      "cell_type": "markdown",
      "source": [
        "---\n",
        "#### --> **Bisección**\n",
        "---\n",
        "---\n",
        "##### Primera Iteración :\n",
        "\n",
        "$A = 0.7$\n",
        "\n",
        "$C =0.75$\n",
        "\n",
        "$B = 0.8$\n",
        "\n",
        "Con h = 0.7\n",
        "\n",
        "$$ = [20cos^{-1} \\bigg(\\frac{2-0.7}{2} \\bigg) - (2-0.7) \\sqrt{4*0.7-0.7^{2}}(5)] - 8 $$\n",
        "\n",
        "$$ = -0.6149068$$\n",
        "\n",
        "Con h = 0.8\n",
        "\n",
        "$$ = [20cos^{-1} \\bigg(\\frac{2-0.8}{2} \\bigg) - (2-0.8) \\sqrt{4*0.8-0.8^{2}}(5)] - 8 $$\n",
        "\n",
        "$$ = 0.94590436$$\n",
        "\n",
        "Con h = 0.75\n",
        "\n",
        "$$ = [20cos^{-1} \\bigg(\\frac{2-0.75}{2} \\bigg) - (2-0.75) \\sqrt{4*0.75-0.75^{2}}(5)] - 8 $$\n",
        "\n",
        "$$ = 0.15548650$$\n",
        "\n",
        "---\n",
        "\n",
        "##### Segunda Iteración\n",
        "\n",
        "\n",
        "\n",
        "\n",
        "$A = 0.7$\n",
        "\n",
        "$C =0.725$\n",
        "\n",
        "$B = 0.75$\n",
        "\n",
        "Con h = 0.7\n",
        "\n",
        "$$ = -0.6149068$$\n",
        "\n",
        "Con h = 0.75\n",
        "\n",
        "$$ = 0.15548650$$\n",
        "\n",
        "Con h = 0.725\n",
        "\n",
        "$$ = [20cos^{-1} \\bigg(\\frac{2-0.725}{2} \\bigg) - (2-0.75) \\sqrt{4*0.725-0.75^{2}}(5)] - 8 $$\n",
        "\n",
        "$$ = 0.15548650$$\n",
        "\n",
        "---\n",
        "##### Tercera Iteración\n",
        "\n",
        "\n",
        "$A = 0.7$\n",
        "\n",
        "$C = 0.715$\n",
        "\n",
        "$B = 0.725$\n",
        "\n",
        "---\n",
        "#### --> **Newton**\n",
        "---\n",
        "\n",
        "$$F(h) = [20cos^{-1} \\bigg(\\frac{2-h}{2} \\bigg) - (2-h) \\sqrt{4h-h^{2}}(5)] - 8 $$\n",
        "\n",
        "$$F'(h) = 5\\sqrt{4h-h^{2}} - \\frac{5(4-2h)(2-h)}{2\\sqrt{4h-h^{2}}} + \\frac{10}{\\sqrt{1-\\frac{(2-h)^{2}}{4}}}$$\n",
        "\n",
        "---\n",
        "\n",
        "##### Primera Iteración\n",
        "\n",
        "$$h_{0} = 0.7$$\n",
        "\n",
        "$$h_{1} = 0.7 - \\frac{F(0.7)}{F'(0.7)}$$\n",
        "\n",
        "$$h_{1} = 0.7 - \\frac{-0.6149068984}{15.19868415} $$\n",
        "\n",
        "$$h_{1} = 0.7404557$$\n",
        "\n",
        "---\n",
        "\n",
        "##### Segunda Iteración\n",
        "\n",
        "$$h_{2} = 0.7404557 - \\frac{F(0.7404557)}{F'(0.7404557)} $$\n",
        "\n",
        "$$h_{2} = 0.7404557 - \\frac{6.842363 \\times10^{-3}}{15.53559834} $$\n",
        "\n",
        "$$h_{2} = 0.7400152687$$\n",
        "\n",
        "\n",
        "\n",
        "---\n",
        "\n",
        "#### --> **Secante**\n",
        "\n",
        "---\n",
        "\n",
        "\n",
        "$$h2 = h1 - \\frac{F(h1)(h0-h1)}{F(h0)-F(h1)}$$\n",
        "\n",
        "---\n",
        "##### Primera Iteración\n",
        "\n",
        "$ h0 = 0.7$\n",
        "\n",
        "$ h1 = 0.8$\n",
        "\n",
        "$$h2 = 0.8 - \\frac{(0.94590436)(-0.1)}{-0.6149068984-0.94590436}$$\n",
        "\n",
        "$$h2 = 0.7393966212$$\n",
        "\n",
        "---\n",
        "##### Segunda Iteración\n",
        "\n",
        "$ h1 = 0.8$\n",
        "\n",
        "$ h2 = 0.7393966212$\n",
        "\n",
        "$$h3 = h2 - \\frac{F(h2)(h1-h2)}{F(h1)-F(h2)}$$\n",
        "\n",
        "$$h3 = 0.7393966212 - \\frac{-9.606509983\\times 10^{-3}(0.0606033788)}{0.94590436-(-9.606509983\\times 10^{-3})}$$\n",
        "\n",
        "$$h3 = 0.74000559151$$\n",
        "\n",
        "\n",
        "---\n",
        "#### --> **Falsa Posición**\n",
        "\n",
        "---\n",
        "\n",
        "---\n",
        "\n",
        "#####  Primera Iteración\n",
        "\n",
        "$$F(x) = [20cos^{-1} \\bigg(\\frac{2-h}{2} \\bigg) - (2-h) \\sqrt{4h-h^{2}}(5)] - 8 $$\n",
        "\n",
        "$A = 0.7$\n",
        "\n",
        "$C = ? $\n",
        "\n",
        "$B = 0.8$\n",
        "\n",
        "$$C = A - \\frac{F(A)(A-B)}{F(A) - F(B)}$$\n",
        "\n",
        "$$C = 0.7 - \\frac{F(0.7)(0.7-0.8)}{F(0.7) - F(0.8)}$$\n",
        "\n",
        "$$C = 0.7-\\frac{−0.6149068984 (0.7 - 0.8)}{−0.6149068984 - 8.65409564}$$\n",
        "\n",
        "$$C = 0.7066330734$$\n",
        "\n",
        "$$F(C) = -10.37917121$$\n",
        "\n",
        "---\n",
        "##### Segunda Iteración\n",
        "\n",
        "$A = 0.7066330734$\n",
        "\n",
        "$C = ?$\n",
        "\n",
        "$B = 0.8$\n",
        "\n",
        "$$C =  0.7066330734 - \\frac{F(0.7066330734)(0.7066330734-0.8)}{F(0.7066330734) - F(0.8)}$$\n",
        "\n",
        "\n",
        "$$C = 0.7066330734 -\\frac{-10.37917121 (0.7066330734 -0.8)}{-10.37917121 -  8.65409564}$$\n",
        "\n",
        "$$C = 0.7575441666$"
      ],
      "metadata": {
        "id": "QnSUIoYsb7_u"
      }
    },
    {
      "cell_type": "markdown",
      "source": [
        "### Codigo"
      ],
      "metadata": {
        "id": "JXKFGCJsj2c8"
      }
    },
    {
      "cell_type": "code",
      "source": [
        "import math\n",
        "#parametros\n",
        "\n",
        "r = 2\n",
        "L = 5\n",
        "V = 8\n",
        "tol = 1e-5\n",
        "x0 = 0.7\n",
        "x1 = 0.8\n",
        "h = sp.symbols(\"h\")\n",
        "\n",
        "\n",
        "\n",
        "#Función\n",
        "f = (r**2 * sp.acos((r - h) / r) - (r - h) * sp.sqrt(2 * r * h - h**2)) * L - V\n",
        "f_function = sp.lambdify(h, f)\n",
        "\n",
        "x = np.linspace(0.6, 0.9, 100)\n",
        "\n",
        "plt.plot(x, f_function(x))\n",
        "plt.grid()\n",
        "plt.plot(x, 0*x, 'r')\n",
        "\n",
        "# Bisección\n",
        "ze.bisection(f_function,x0,x1,tol)\n",
        "\n",
        "#Newton\n",
        "solve = ze.newton(f,x0,tol,h)\n",
        "\n",
        "# Secante\n",
        "resultadoSecante = ze.secante(f_function,x0,x1,tol)\n",
        "\n",
        "#Falsa Posición\n",
        "ze.positionFalse(f_function,x0,x1,tol)"
      ],
      "metadata": {
        "colab": {
          "base_uri": "https://localhost:8080/",
          "height": 499
        },
        "id": "fan1caYLupPO",
        "outputId": "98225311-8a61-4e0c-d683-de607bff33c4"
      },
      "execution_count": 28,
      "outputs": [
        {
          "output_type": "stream",
          "name": "stdout",
          "text": [
            "la solución por Bisección es: \u001b[1;31m 0.7400207519531252 \u001b[0m y se necesitan \u001b[1;31m 14\u001b[0m iteraciones\n",
            "la solución por newton es: \u001b[1;31m0.7400152180559408\u001b[0m y se necesitan \u001b[1;31m3\u001b[0m iteraciones\n",
            "La solución por Secante es: \u001b[1;31m0.7400152180559367\u001b[0m y se necesitan \u001b[1;31m4\u001b[0m iteraciones\n",
            "la solución por Falsa Posición es: \u001b[1;31m0.7400150782100842\u001b[0m y se necesitan \u001b[1;31m3\u001b[0m iteraciones\n"
          ]
        },
        {
          "output_type": "display_data",
          "data": {
            "text/plain": [
              "<Figure size 640x480 with 1 Axes>"
            ],
            "image/png": "[encoded data removed]"
          },
          "metadata": {}
        }
      ]
    },
    {
      "cell_type": "markdown",
      "source": [
        "## Segundo Ejercicio"
      ],
      "metadata": {
        "id": "3MWmIuqwRM9B"
      }
    },
    {
      "cell_type": "markdown",
      "source": [
        "En la figura(a) se muestra una viga uniforme sujeta a una carga distribuida uniforme que crece en\n",
        "forma lineal. La ecuación para la curva elástica resultante es la siguiente(figura b):\n",
        "\n",
        "\n",
        "$$y = \\frac{w_{0}}{120EIL}(-x^{5}+2L^{2}x^{3}-L^{4}x)$$\n",
        "\n",
        "\n",
        "Utilice el método de la bisección para determinar el punto de máxima deflexión. Después, sustituya este valor en la ecuación a fin de determinar la deflexión máxima, En sus cálculos utilice los valores siguientes para los parámetros:\n",
        "\n",
        "$L = 450cm$\n",
        "\n",
        "$E = 50000kN/cm^{2}$\n",
        "\n",
        "$I = 30000cm^{4}$  \n",
        "\n",
        "$w_{o} = 1.75kN/cm$\n",
        "\n",
        "$a)$ Use el método gráfico\n",
        "\n",
        "$b)$ Use un método abierto de su elección\n",
        "\n",
        "$c)$  Use un método cerrado de su elección"
      ],
      "metadata": {
        "id": "G0bdpUflRaI3"
      }
    },
    {
      "cell_type": "markdown",
      "source": [
        "![image.png](data:image/png;base64,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)"
      ],
      "metadata": {
        "id": "KZ0bFjM9TZXk"
      }
    },
    {
      "cell_type": "markdown",
      "source": [
        "$$y=\\frac{w_0}{120 E I L} (-x^5+2L^2x^3-L^4x)$$\n",
        "\n",
        "Para hallar la deflexión máxima, debemos hallar la derivada de $y$\n",
        "\n",
        "\n",
        "$$\\frac{dy}{dx} = \\frac{w_0}{120 E I L} (-5x^4+6L^2x^2-L^4) $$\n",
        "\n",
        "Y ahora hacemos $\\frac{dy}{dx}=0$\n",
        "\n",
        "$$0 = \\frac{w_0}{120 E I L} (-5x^4+6L^2x^2-L^4) $$\n"
      ],
      "metadata": {
        "id": "HSR9yuOK21Ro"
      }
    },
    {
      "cell_type": "markdown",
      "source": [
        "### Iteraciones a mano\n",
        "\n",
        "\n",
        "\n"
      ],
      "metadata": {
        "id": "xDasf0qE8R8X"
      }
    },
    {
      "cell_type": "markdown",
      "source": [
        "\n",
        "$$0 = \\frac{1.75}{8.1\\times10^{12}}[-5x^{4} + 6(450)^{2}x^{2}-(450)^{4}]$$\n",
        "\n",
        "\n",
        "---\n",
        "#### --> **Bisección**\n",
        "---\n",
        "\n",
        "---\n",
        "##### Primera Iteración\n",
        "\n",
        "$A = 150$\n",
        "\n",
        "$C =200$\n",
        "\n",
        "$B = 250$\n",
        "\n",
        "Con x = 150\n",
        "\n",
        "$$\\frac{1.75}{8.1x10^{12}}[-5(150)^{4} + 2(450)^{2}3(150)^{2}-(450)^{4}]$$\n",
        "\n",
        "$$ = -0.00035$$\n",
        "\n",
        "Con x = 250\n",
        "\n",
        "$$\\frac{1.75}{8.1x10^{12}}[-5(250)^{4} + 2(450)^{2}3(250)^{2}-(450)^{4}]$$\n",
        "\n",
        "$$ = 0.0003327$$\n",
        "\n",
        "Con x = 200\n",
        "\n",
        "$$\\frac{1.75}{8.1x10^{12}}[-5(200)^{4} + 2(450)^{2}3(200)^{2}-(450)^{4}]$$\n",
        "\n",
        "$$ = -8.78\\times10^{-6}$$\n",
        "\n",
        "---\n",
        "##### Segunda Iteración\n",
        "\n",
        "\n",
        "\n",
        "$A = 200$\n",
        "\n",
        "$C =225$\n",
        "\n",
        "$B = 250$\n",
        "\n",
        "Con x = 200\n",
        "\n",
        "$$ = -8.78\\times10^{-6}$$\n",
        "\n",
        "Con x = 250\n",
        "\n",
        "$$ = 0.0003327$$\n",
        "\n",
        "Con x = 225\n",
        "\n",
        "$$\\frac{1.75}{8.1x10^{12}}[-5(225)^{4} + 2(450)^{2}3(225)^{2}-(450)^{4}]$$\n",
        "\n",
        "$$ = 0.00017$$\n",
        "\n",
        "---\n",
        "##### Tercera Iteración\n",
        "\n",
        "$A = 200$\n",
        "\n",
        "$C = ? $\n",
        "\n",
        "$B = 225$\n",
        "\n",
        "\n",
        "---\n",
        "#### --> **Newton**\n",
        "---\n",
        "\n",
        "$$F(x) = \\frac{1.75}{8.1\\times 10^{12}}[-5x^{4} + 2(450)^{2}3x^{2}-(450)^{4}]$$\n",
        "\n",
        "$$F'(x) = \\frac{1.75}{8.1\\times10^{12}}[-20x^{3} + 2430000x]$$\n",
        "\n",
        "---\n",
        "##### Primera Iteración\n",
        "\n",
        "$$x_{0} = 150$$\n",
        "\n",
        "$$x_{1} = 150 - \\frac{F(150)}{F'(150)}$$\n",
        "\n",
        "$$x_{1} = 150 - \\frac{-3.5\\times10^{-3}}{6.416666667\\times10^{-5}} $$\n",
        "\n",
        "$$x_{1} = 204,5454545 $$\n",
        "\n",
        "---\n",
        "\n",
        "##### Segunda Iteración\n",
        "\n",
        "$$x_{2} = 204.5454545. - \\frac{F(204.5454545)}{F'(204.5454545)} $$\n",
        "\n",
        "$$x_{2} = 204.5454545 - \\frac{2.323611743\\times10^{-4}}{9.665758828\\times10^{-5}} $$\n",
        "\n",
        "$$x_{2} = 202.1414924$$\n",
        "\n",
        "\n"
      ],
      "metadata": {
        "id": "CeTk3Rl5Ab3w"
      }
    },
    {
      "cell_type": "markdown",
      "source": [
        "### Codigo"
      ],
      "metadata": {
        "id": "dFrzh2dLASeN"
      }
    },
    {
      "cell_type": "code",
      "source": [
        "L = 450\n",
        "E = 50000\n",
        "I = 30000\n",
        "w0 = 1.75\n",
        "x = sp.symbols(\"x\")\n",
        "\n",
        "x0 = 150\n",
        "x1 = 250\n",
        "tol = 1e-6\n",
        "\n",
        "y = (w0/(120*E*I*L))*(-x**5+2*(L**2)*(x**3)-x*(L**4))\n",
        "y_function = sp.lambdify(x, y)\n",
        "\n",
        "dy = (w0/(120*E*I*L))*(-5*(x**4)+6*(L**2)*(x**2)-(L**4))\n",
        "dy_function = sp.lambdify(x, dy)\n",
        "\n",
        "t = np.linspace(0,L)\n",
        "\n",
        "# Método grafico\n",
        "plt.plot(t,dy_function(t))\n",
        "plt.plot(t,0*t)\n",
        "plt.grid()\n",
        "\n",
        "# Método abierto\n",
        "ze.bisection(dy_function,x0,x1,tol)\n",
        "\n",
        "# Método cerrado\n",
        "ze.newton(dy,x0,tol)\n"
      ],
      "metadata": {
        "colab": {
          "base_uri": "https://localhost:8080/",
          "height": 465
        },
        "id": "FiSw_bDJXCVg",
        "outputId": "095255fb-da7f-401f-a7e3-2eefb52c1529"
      },
      "execution_count": 34,
      "outputs": [
        {
          "output_type": "stream",
          "name": "stdout",
          "text": [
            "la solución por Bisección es: \u001b[1;31m 201.24611780047417 \u001b[0m y se necesitan \u001b[1;31m 27\u001b[0m iteraciones\n",
            "la solución por newton es: \u001b[1;31m201.24611797498113\u001b[0m y se necesitan \u001b[1;31m4\u001b[0m iteraciones\n"
          ]
        },
        {
          "output_type": "display_data",
          "data": {
            "text/plain": [
              "<Figure size 640x480 with 1 Axes>"
            ],
            "image/png": "[encoded data removed]"
          },
          "metadata": {}
        }
      ]
    },
    {
      "cell_type": "markdown",
      "source": [
        "La deflexión máxima se hallará remplazando el valor obtenido por los metodos en la ecuación original\n",
        "\n",
        "tomado por Newton:\n",
        "$$ xN = 201.24611797498113$$\n",
        "\n",
        "$$y = \\frac{w_{0}}{120EIL}((-xN)^{5}+2L^{2}(xN)^{3}-L^{4}(xN))$$"
      ],
      "metadata": {
        "id": "_ny863aDlhoO"
      }
    },
    {
      "cell_type": "code",
      "source": [
        "xN = 201.24611797498113\n",
        "\n",
        "yf = (w0/(120*E*I*L))*(-xN**5+2*(L**2)*(xN**3)-(L**4)*xN)\n",
        "print(\"Deflexión Máxima: \", yf)"
      ],
      "metadata": {
        "colab": {
          "base_uri": "https://localhost:8080/"
        },
        "id": "s56a-CLjmYSO",
        "outputId": "3a31d21f-0003-4476-9402-9b52303adbe8"
      },
      "execution_count": 30,
      "outputs": [
        {
          "output_type": "stream",
          "name": "stdout",
          "text": [
            "Deflexión Máxima:  -0.11410654889181429\n"
          ]
        }
      ]
    },
    {
      "cell_type": "markdown",
      "source": [
        "## Tercer Ejercicio"
      ],
      "metadata": {
        "id": "i9myZV8KUOFR"
      }
    },
    {
      "cell_type": "markdown",
      "source": [
        "Una carga total Q se encuentra distribuida en forma uniforme alrededor de un conductor en forma\n",
        "de anillo con radio a. Una carga q se localiza a una distancia x del centro del anillo (véase la\n",
        "figura)."
      ],
      "metadata": {
        "id": "1zU-a1rnUXAD"
      }
    },
    {
      "cell_type": "markdown",
      "source": [
        "![image.png](data:image/png;base64,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)"
      ],
      "metadata": {
        "id": "PvmMxNT5M3S2"
      }
    },
    {
      "cell_type": "markdown",
      "source": [
        "La fuerza que el anillo ejerce sobre la carga está dada por la ecuación\n",
        "\n",
        "$$F = \\frac{1}{4\\pi e_{0}} \\frac{qQx}{(x^{2}+a^{2})^\\frac{3}{2}}$$\n",
        "\n",
        "\n",
        "donde $e_{0} = 8.85 * 10^{-12}C^{2}\n",
        "/(Nm^{2})$ Encuentre la distancia x donde la fuerza es de $1.25 N$, si $q$ y $Q$ son $2 * 10^{-5}C$ para un anillo con un radio de $0.09m$\n",
        "\n",
        "$a)$ Use el método gráfico\n",
        "\n",
        "$b)$ Use un método abierto de su elección\n",
        "\n",
        "$c)$ Use un método cerrado de su elección"
      ],
      "metadata": {
        "id": "kFYmijGcM5a1"
      }
    },
    {
      "cell_type": "markdown",
      "source": [
        "### Iteraciones a mano\n",
        "\n",
        "$$0 = \\frac{1}{4\\pi e_{0}} \\frac{qQx}{(x^{2}+a^{2})^\\frac{3}{2}} - F$$\n",
        "\n",
        "$$0 = \\frac{1}{4\\pi 8.85 \\times 10^{-12}} \\frac{4\\times 10^{-10}x}{(x^{2}+0.09^{2})^\\frac{3}{2}} - 1.25$$\n"
      ],
      "metadata": {
        "id": "O32BHwAOOn6P"
      }
    },
    {
      "cell_type": "markdown",
      "source": [
        "---\n",
        "#### --> **Bisección**\n",
        "---\n",
        "\n",
        "---\n",
        "\n",
        "##### Primera Iteración\n",
        "\n",
        "\n",
        "$A = 1.5$\n",
        "\n",
        "$C = 1.75$\n",
        "\n",
        "$B = 2$\n",
        "\n",
        "Con x = 1.5\n",
        "\n",
        "$$= \\frac{1}{4\\pi 8.85 \\times 10^{-12}} \\frac{4\\times 10^{-10}(1.5)}{((1.5)^{2}+0.09^{2})^\\frac{3}{2}} - 1.25$$\n",
        "\n",
        "$$ = 0.339949$$\n",
        "\n",
        "Con x = 2\n",
        "\n",
        "$$= \\frac{1}{4\\pi 8.85 \\times 10^{-12}} \\frac{4\\times 10^{-10}(2)}{((2)^{2}+0.09^{2})^\\frac{3}{2}} - 1.25$$\n",
        "\n",
        "$$ = -0.353543$$\n",
        "\n",
        "Con x = 1.75\n",
        "\n",
        "$$= \\frac{1}{4\\pi 8.85 \\times 10^{-12}} \\frac{4\\times 10^{-10}(1.75)}{((1.75)^{2}+0.09^{2})^\\frac{3}{2}} - 1.25$$\n",
        "\n",
        "$$ = -0.0802042$$\n",
        "\n",
        "\n",
        "---\n",
        "\n",
        "##### Segunda Iteración\n",
        "\n",
        "\n",
        "\n",
        "$A = 1.5$\n",
        "\n",
        "$C =1.625$\n",
        "\n",
        "$B = 1.75$\n",
        "\n",
        "Con x = 1.5\n",
        "\n",
        "$$ = 0.339949$$\n",
        "\n",
        "Con x = 1.75\n",
        "\n",
        "$$ = -0.0802042$$\n",
        "\n",
        "Con x = 1.625\n",
        "\n",
        "$$= \\frac{1}{4\\pi 8.85 \\times 10^{-12}} \\frac{4\\times 10^{-10}(1.625)}{((1.625)^{2}+0.09^{2})^\\frac{3}{2}} - 1.25$$\n",
        "\n",
        "$$ = 0.10582899$$\n",
        "\n",
        "---\n",
        "##### Tercera Iteración\n",
        "\n",
        "\n",
        "$A = 1.625$\n",
        "\n",
        "$C = 1.6875 $\n",
        "\n",
        "$B = 1.75$\n",
        "\n",
        "\n",
        "---\n",
        "#### --> **Newton**\n",
        "\n",
        "---\n",
        "\n",
        "$$ F(x) = \\frac{1}{4\\pi 8.85 \\times 10^{-12}} \\frac{4\\times 10^{-10}x}{(x^{2}+0.09^{2})^\\frac{3}{2}} - 1.25$$\n",
        "\n",
        "$$F'(x) = -\\frac{20000x^{2} - 81}{885\\pi(x^{2}+ \\frac{81}{10000})^{5/2}}$$\n",
        "\n",
        "---\n",
        "\n",
        "##### Primera Iteración\n",
        "\n",
        "$$x_{0} = 1.5$$\n",
        "\n",
        "$$x_{1} = 1.5 - \\frac{F(1.5)}{F'(1.5)}$$\n",
        "\n",
        "$$x_{1} = 1.5 - \\frac{0.3399496064}{-2.108526235} $$\n",
        "\n",
        "$$x_{1} = 1.661226169$$\n",
        "\n",
        "---\n",
        "\n",
        "##### Segunda Iteración\n",
        "\n",
        "$$x_{2} = 1.661226169 - \\frac{F(1.661226169)}{F'(1.661226169)} $$\n",
        "\n",
        "$$x_{2} = 1.661226169 - \\frac{0.04759768691}{-1.555368926} $$\n",
        "\n",
        "$$x_{2} = 1.691828354$$\n",
        "\n"
      ],
      "metadata": {
        "id": "Gw5cIRveOkjv"
      }
    },
    {
      "cell_type": "markdown",
      "source": [
        "### Codigo"
      ],
      "metadata": {
        "id": "J6yU-Qg9bqa8"
      }
    },
    {
      "cell_type": "code",
      "source": [
        "e0 = 8.85*(10**-12)\n",
        "F = 1.25\n",
        "q = Q = 2*(10**-5)\n",
        "a = 0.09\n",
        "x = sp.symbols(\"x\")\n",
        "\n",
        "x0 = 1.5\n",
        "x1 = 2\n",
        "tol = 0.001\n",
        "\n",
        "f = (1/(4*np.pi*e0))*((q*Q*x)/(x**2+a**2)**(3/2)) - F\n",
        "f_function = sp.lambdify(x, f)\n",
        "\n",
        "#Metodo Abierto\n",
        "ze.bisection(f_function,x0,x1,tol)\n",
        "\n",
        "#Metodo Cerrado\n",
        "ze.newton(f,x0,tol)\n",
        "\n",
        "# Metodo grafico\n",
        "x = np.linspace(0, 4, 100)\n",
        "\n",
        "plt.plot(x, f_function(x))\n",
        "plt.grid()\n",
        "plt.plot(x, 0*x, 'r')\n",
        "plt.ylim(-1,5)\n",
        "plt.show()"
      ],
      "metadata": {
        "colab": {
          "base_uri": "https://localhost:8080/",
          "height": 470
        },
        "id": "2uFEpgEiO_xK",
        "outputId": "d196ba8b-75a2-4dd3-aab1-3c5ba32496d9"
      },
      "execution_count": 35,
      "outputs": [
        {
          "output_type": "stream",
          "name": "stdout",
          "text": [
            "la solución por Bisección es: \u001b[1;31m 1.6923828125 \u001b[0m y se necesitan \u001b[1;31m 9\u001b[0m iteraciones\n",
            "la solución por newton es: \u001b[1;31m1.6926950925107993\u001b[0m y se necesitan \u001b[1;31m3\u001b[0m iteraciones\n"
          ]
        },
        {
          "output_type": "display_data",
          "data": {
            "text/plain": [
              "<Figure size 640x480 with 1 Axes>"
            ],
            "image/png": "[encoded data removed]"
          },
          "metadata": {}
        }
      ]
    },
    {
      "cell_type": "markdown",
      "source": [
        "## Cuarto Ejercicio"
      ],
      "metadata": {
        "id": "Uu-E_C6DSepe"
      }
    },
    {
      "cell_type": "markdown",
      "source": [
        "Por un canal trapezoidal fluye agua a una tasa de $Q = 20m3/s$. La profundidad crítica y para\n",
        "dicho canal satisface la ecuación:\n",
        "\n",
        "$$ 0 = 1 - \\frac{Q^{2}}{gA_{c}^{3}}B $$\n",
        "\n",
        "donde $g = 9.81m/s^{2}$\n",
        ", $A_{c}$ =área de la sección transversal $(m^{2})$ y B el ancho del canal en la superficie.\n",
        "Para este caso, el ancho y el área de la sección transversal se relacionan con la profundidad y por\n",
        "medio de;\n",
        "\n",
        "$$B = 3 + y $$ $$ A_{c} = 3y + \\frac{y^{2}}{2}$$\n",
        "\n",
        "Resuelva para la profundidad crítica con el uso de los método:\n",
        "\n",
        "$a)$ Método Gráfico\n",
        "\n",
        "$b)$ Método de Bisección con una elección de $[0.5, 2.5]$ y ejecute la iteración hasta que el error\n",
        "aproximado caiga por debajo del $1$%\n",
        "\n",
        "$c)$ Método de Falsa Posición con una elección de $[0.5, 2.5]$ y ejecute la iteración hasta que el\n",
        "error aproximado caiga por debajo del $1$%\n"
      ],
      "metadata": {
        "id": "ApTJVfVwTBec"
      }
    },
    {
      "cell_type": "markdown",
      "source": [
        "### Iteración a mano\n",
        "\n",
        "   $$0 = 1 - \\frac{20^{2}}{9.81(3y + \\frac{y^2}{2})^3} 3+y$$"
      ],
      "metadata": {
        "id": "vzXjMVv7jGrK"
      }
    },
    {
      "cell_type": "markdown",
      "source": [
        "---\n",
        "#### --> **Bisección**\n",
        "---\n",
        "\n",
        "---\n",
        "##### Primera Iteración\n",
        "\n",
        "$A = 1.25$\n",
        "\n",
        "$C = 1.5$\n",
        "\n",
        "$B = 1.75$\n",
        "\n",
        "Con x = 1.25\n",
        "\n",
        "   $$0 = 1 - \\frac{20^{2}}{9.81(3(1.25) + \\frac{(1.25)^2}{2})^{3}} (3+1.25)$$\n",
        "\n",
        "   $$ = -0.84383135$$\n",
        "\n",
        "Con x = 1.75\n",
        "\n",
        "  $$0 = 1 - \\frac{20^{2}}{9.81(3(1.75) + \\frac{(1.75)^2}{2})^{3}} (3+1.75)$$\n",
        "\n",
        "   $$ = 0.385176187$$\n",
        "\n",
        "Con x = 1.5\n",
        "\n",
        "  $$0 = 1 - \\frac{20^{2}}{9.81(3(1.5) + \\frac{(1.5)^2}{2})^{3}} (3+1.5)$$\n",
        "\n",
        "   $$ = - 0.020542910$$\n",
        "\n",
        "\n",
        "---\n",
        "\n",
        "##### Segunda Iteración\n",
        "\n",
        "\n",
        "\n",
        "\n",
        "$A = 1.5$\n",
        "\n",
        "$C =1.625$\n",
        "\n",
        "$B = 1.75$\n",
        "\n",
        "Con x = 1.5\n",
        "\n",
        "$$ = - 0.020542910$$\n",
        "\n",
        "Con x = 1.75\n",
        "\n",
        "$$ = 0.020542910$$\n",
        "\n",
        "Con x = 1.625\n",
        "\n",
        "  $$0 = 1 - \\frac{20^{2}}{9.81(3(1.625) + \\frac{(1.625)^2}{2})^{3}} (3+1.625)$$\n",
        "\n",
        "   $$ = 0.2149299295$$\n",
        "\n",
        "\n",
        "---\n",
        "##### Tercera Iteración\n",
        "\n",
        "\n",
        "$A = 1.5$\n",
        "\n",
        "$C = ? $\n",
        "\n",
        "$B = 1.625$\n",
        "\n",
        "\n",
        "---\n",
        "#### --> **Falsa Posición**\n",
        "\n",
        "---\n",
        "\n",
        "---\n",
        "\n",
        "#####  Primera Iteración\n",
        "\n",
        "$$0 = 1 - \\frac{20^{2}}{9.91(3y + \\frac{y^2}{2})^3} 3+y$$\n",
        "\n",
        "$A = 1.25$\n",
        "\n",
        "$C = ? $\n",
        "\n",
        "$B = 1.75$\n",
        "\n",
        "$$C = A - \\frac{F(A)(A-B)}{F(A) - F(B)}$$\n",
        "\n",
        "$$C = 1.25 - \\frac{F(1.25)(1.25-1.75)}{F(1.25) - F(1.75)}$$\n",
        "\n",
        "$$C = 1.25-\\frac{-0.8438313512 (1.25 - 1.75)}{-0.8438313512 - 0.3851761872}$$\n",
        "\n",
        "$$C = 1.593297874$$\n",
        "\n",
        "$$F(C) = +0.1538967946$$\n",
        "\n",
        "---\n",
        "##### Segunda Iteración\n",
        "\n",
        "$A = 1.25$\n",
        "\n",
        "$C = ?$\n",
        "\n",
        "$B = 1.593297874$\n",
        "\n",
        "$$C = 1.25 - \\frac{F(1.25)(1.25-1.593297874)}{F(1.25) - F(1.593297874)}$$\n",
        "\n",
        "\n",
        "$$C = 1.25-\\frac{-0.8438313512 (1.25 - 1.593297874)}{-0.8438313512 -  0.1538967946}$$\n",
        "\n",
        "$$C = 1.540345134$$\n"
      ],
      "metadata": {
        "id": "gABpeSGIlER-"
      }
    },
    {
      "cell_type": "markdown",
      "source": [
        "### Codigo"
      ],
      "metadata": {
        "id": "LLHwacrklHqi"
      }
    },
    {
      "cell_type": "code",
      "source": [
        "Q = 20\n",
        "g = 9.81\n",
        "x = sp.symbols(\"x\")\n",
        "\n",
        "x0 = 1.25\n",
        "x1 = 1.75\n",
        "tol = 1e-2\n",
        "\n",
        "f = 1 - Q**2/(g*(3*x + (x**2)/2)**3)*(3+x)\n",
        "f_function = sp.lambdify(x, f, 'numpy')\n",
        "\n",
        "x = np.linspace(0.5, 2.5, 100)\n",
        "\n",
        "# Método grafico\n",
        "plt.plot(x, f_function(x))\n",
        "plt.grid()\n",
        "plt.plot(x, 0*x, 'r')\n",
        "plt.show()\n",
        "\n",
        "print(\"\")\n",
        "# Método Bisección\n",
        "ze.bisection(f_function,x0,x1,tol)\n",
        "\n",
        "# Método Falsa Posición\n",
        "ze.positionFalse(f_function,x0,x1,tol)"
      ],
      "metadata": {
        "id": "11h2bgScSjC8",
        "colab": {
          "base_uri": "https://localhost:8080/",
          "height": 482
        },
        "outputId": "1205189a-71ac-4750-f313-d598e394f18c"
      },
      "execution_count": 36,
      "outputs": [
        {
          "output_type": "display_data",
          "data": {
            "text/plain": [
              "<Figure size 640x480 with 1 Axes>"
            ],
            "image/png": "[encoded data removed]"
          },
          "metadata": {}
        },
        {
          "output_type": "stream",
          "name": "stdout",
          "text": [
            "\n",
            "la solución por Bisección es: \u001b[1;31m 1.5078125 \u001b[0m y se necesitan \u001b[1;31m 6\u001b[0m iteraciones\n",
            "la solución por Falsa Posición es: \u001b[1;31m1.5173791661677005\u001b[0m y se necesitan \u001b[1;31m4\u001b[0m iteraciones\n"
          ]
        }
      ]
    },
    {
      "cell_type": "markdown",
      "source": [
        "## Quinto Ejercicio"
      ],
      "metadata": {
        "id": "PSzY5UREf2kp"
      }
    },
    {
      "cell_type": "markdown",
      "source": [
        " La velocidad v de un paracaidista que cae está dada por\n",
        "\n",
        "$$ v = \\frac{gm}{c}(1 - e^{-\\frac{c}{m}t})$$\n",
        "\n",
        "donde $g = 9.8m/s^{2}$. Para un paracaidista con coeficiente de arrastre $c = 15kg/s$, calcule la masa\n",
        "m de modo que la velocidad sea $v = 35m/s$ en un tiempo $t = 9s$\n",
        "\n",
        "$a)$ Use el método de Falsa posición para determinar m a un nivel de $E_{a} = 0.1 $%\n",
        "\n",
        "$b)$ Use el método de Newton para determinar $m$ a un nivel de $E_{a} = 0.1 $%\n",
        "\n",
        "$c)$ Use el método de Bisección para determinar $m$ a un nivel de $E_{a} = 0.1 $%\n",
        "\n"
      ],
      "metadata": {
        "id": "KyFq0HStf9NV"
      }
    },
    {
      "cell_type": "markdown",
      "source": [
        "### Iteraciones a mano\n",
        "\n",
        "$$ = \\frac{9.8m}{15}(1-e^{-\\frac{15}{m}(9)}) - 35$$\n",
        "\n",
        "$$ = \\frac{9.8m}{15}(1-e^{-\\frac{135}{m}}) - 35$$"
      ],
      "metadata": {
        "id": "EAcIeEMItZVc"
      }
    },
    {
      "cell_type": "markdown",
      "source": [
        "\n",
        "---\n",
        "#### --> **Falsa Posición**\n",
        "\n",
        "---\n",
        "\n",
        "---\n",
        "\n",
        "#####  Primera Iteración\n",
        "\n",
        "$$ F(x) = \\frac{9.8m}{15}(1-e^{-\\frac{135}{m}}) - 35$$\n",
        "\n",
        "$A = 55$\n",
        "\n",
        "$C = ? $\n",
        "\n",
        "$B = 65$\n",
        "\n",
        "$$C = A - \\frac{F(A)(A-B)}{F(A) - F(B)}$$\n",
        "\n",
        "$$C = 55 - \\frac{F(55)(55-65)}{F(55) - F(65)}$$\n",
        "\n",
        "$$C = 55-\\frac{−2.15342024 (55 - 65)}{−2.15342024 - 2.144947634}$$\n",
        "\n",
        "$$C = 60.00985561$$\n",
        "\n",
        "$$F(C) = 0.07258345$$\n",
        "\n",
        "---\n",
        "##### Segunda Iteración\n",
        "\n",
        "$A = 55$\n",
        "\n",
        "$C = ?$\n",
        "\n",
        "$B = 60.00985561$\n",
        "\n",
        "$$C = 55 - \\frac{F(55)(55-60.00985561)}{F(55) - F(60.00985561)}$$\n",
        "\n",
        "\n",
        "$$C = 55-\\frac{−2.15342024 (55 - 60.00985561)}{−2.15342024 -  0.07258345}$$\n",
        "\n",
        "$$C = 59.84649892$$\n",
        "\n",
        "---\n",
        "#### --> **Newton**\n",
        "---\n",
        "\n",
        "$$F(h)  = \\frac{9.8m}{15}(1-e^{-\\frac{135}{m}}) - 35 $$\n",
        "\n",
        "$$F'(h) = \\frac{49e^{-135/m} (m*e^{135/m} - m - 135)}{75m}$$\n",
        "\n",
        "---\n",
        "\n",
        "##### Primera Iteración\n",
        "\n",
        "$$m_{0} = 55$$\n",
        "\n",
        "$$m_{1} = 55 - \\frac{F(55)}{F'(55)}$$\n",
        "\n",
        "$$m_{1} = 55 - \\frac{-2.15342024}{0.4594545965} $$\n",
        "\n",
        "$$m_{1} = 59.68690542$$\n",
        "\n",
        "---\n",
        "\n",
        "##### Segunda Iteración\n",
        "\n",
        "$$m_{2} = 59.68690542 - \\frac{F(59.68690542)}{F'(59.68690542)} $$\n",
        "\n",
        "$$m_{2} = 59.68690542 - \\frac{-0.06642003501}{0.4313583193} $$\n",
        "\n",
        "$$m_{2} = 59.84088422$$\n",
        "\n",
        "\n",
        "---\n",
        "#### --> **Bisección**\n",
        "---\n",
        "---\n",
        "##### Primera Iteración\n",
        "\n",
        "\n",
        "$A = 55$\n",
        "\n",
        "$C = 60$\n",
        "\n",
        "$B = 65$\n",
        "\n",
        "Con m = 55\n",
        "\n",
        "$$ = \\frac{9.8(55)}{15}(1-e^{-\\frac{135}{55}}) - 35$$\n",
        "\n",
        "$$ = -2.15342024$$\n",
        "\n",
        "Con m = 65\n",
        "\n",
        "$$ = \\frac{9.8(65)}{15}(1-e^{-\\frac{135}{65}}) - 35$$\n",
        "\n",
        "$$ = 2,144947634$$\n",
        "\n",
        "Con m = 60\n",
        "\n",
        "$$ = \\frac{9.8(60)}{15}(1-e^{-\\frac{135}{60}}) - 35$$\n",
        "\n",
        "\n",
        "$$ = 0.0683503971$$\n",
        "\n",
        "---\n",
        "\n",
        "##### Segunda Iteración\n",
        "\n",
        "\n",
        "\n",
        "$A = 55$\n",
        "\n",
        "$C = 57.5$\n",
        "\n",
        "$B = 60$\n",
        "\n",
        "\n",
        "Con m = 55\n",
        "\n",
        "$$ = -2.15342024$$\n",
        "\n",
        "Con m = 60\n",
        "\n",
        "$$ = 0.0683503971$$\n",
        "\n",
        "Con m = 57.5\n",
        "\n",
        "$$ = \\frac{9.8(57.5)}{15}(1-e^{-\\frac{135}{57.5}}) - 35$$\n",
        "\n",
        "\n",
        "$$ = -1.023831814$$\n",
        "\n",
        "---\n",
        "##### Tercera Iteración\n",
        "\n",
        "\n",
        "$A = 57.5$\n",
        "\n",
        "$C = ? $\n",
        "\n",
        "$B = 60$\n",
        "\n"
      ],
      "metadata": {
        "id": "hNdgxE5IuBxr"
      }
    },
    {
      "cell_type": "markdown",
      "source": [
        "### Codigo"
      ],
      "metadata": {
        "id": "h8SjQu3suCsR"
      }
    },
    {
      "cell_type": "code",
      "source": [
        "g = 9.8\n",
        "c = 15\n",
        "v = 35\n",
        "t = 9\n",
        "x = sp.symbols(\"x\")\n",
        "\n",
        "x0 = 55\n",
        "x1 = 65\n",
        "tol = 0.1\n",
        "\n",
        "f = g*x/c*(1 - sp.exp(-(15/x)*t)) - v\n",
        "\n",
        "# Metodo grafico\n",
        "f_function = sp.lambdify(x, f, 'numpy')\n",
        "x = np.linspace(0.1, 100, 100)\n",
        "\n",
        "plt.plot(x, f_function(x))\n",
        "plt.grid()\n",
        "plt.plot(x, 0*x, 'r')\n",
        "plt.show()\n",
        "\n",
        "print(\"\")\n",
        "# Método Falsa Posición\n",
        "ze.positionFalse(f_function,x0,x1,tol)\n",
        "\n",
        "# Método Newton\n",
        "ze.newton(f,x0,tol)\n",
        "\n",
        "# Método Bisección\n",
        "ze.bisection(f_function,x0,x1,tol)\n",
        "\n",
        "\n"
      ],
      "metadata": {
        "colab": {
          "base_uri": "https://localhost:8080/",
          "height": 499
        },
        "id": "jI14nVtJWsaj",
        "outputId": "e2589857-9cc3-43b9-ec97-cdcb502ae5a9"
      },
      "execution_count": 37,
      "outputs": [
        {
          "output_type": "display_data",
          "data": {
            "text/plain": [
              "<Figure size 640x480 with 1 Axes>"
            ],
            "image/png": "[encoded data removed]"
          },
          "metadata": {}
        },
        {
          "output_type": "stream",
          "name": "stdout",
          "text": [
            "\n",
            "la solución por Falsa Posición es: \u001b[1;31m60.009855608518826\u001b[0m y se necesitan \u001b[1;31m0\u001b[0m iteraciones\n",
            "la solución por newton es: \u001b[1;31m59.84104474777453\u001b[0m y se necesitan \u001b[1;31m3\u001b[0m iteraciones\n",
            "la solución por Bisección es: \u001b[1;31m 59.765625 \u001b[0m y se necesitan \u001b[1;31m 7\u001b[0m iteraciones\n"
          ]
        }
      ]
    }
  ]
}