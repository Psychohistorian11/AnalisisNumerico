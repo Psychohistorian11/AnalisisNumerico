{
  "nbformat": 4,
  "nbformat_minor": 0,
  "metadata": {
    "colab": {
      "provenance": [],
      "authorship_tag": "ABX9TyPL8JrkVj7xKlHgTDgS6Qo/",
      "include_colab_link": true
    },
    "kernelspec": {
      "name": "python3",
      "display_name": "Python 3"
    },
    "language_info": {
      "name": "python"
    }
  },
  "cells": [
    {
      "cell_type": "markdown",
      "metadata": {
        "id": "view-in-github",
        "colab_type": "text"
      },
      "source": [
        "<a href=\"https://colab.research.google.com/github/Psychohistorian11/AnalisisNumerico/blob/main/Clases/Clase3_Polinomios_Derivadas_Taylor_Cota.ipynb\" target=\"_parent\"><img src=\"https://colab.research.google.com/assets/colab-badge.svg\" alt=\"Open In Colab\"/></a>"
      ]
    },
    {
      "cell_type": "markdown",
      "source": [
        "## ENUNCIADO\n",
        "\n",
        "Determine el polinomio de grado 3 para la función $f (x) = e^{2x}\n",
        "cos(2x)$\n",
        "\n",
        "alrededor de $x_{0} = 0$\n",
        "\n",
        "* Use el polinomio para aproximar P(1), P(4.5) y calcule el error\n",
        "relativo y el error absoluto ¿qué sucede?\n",
        "\n",
        "\n",
        "* Determine la cota de truncamiento de Taylor R3(0.5)\n",
        "\n",
        "\n",
        "* Con un algoritmo en el lenguaje de su preferencia realice la gráfica\n",
        "de: la función el polinomio de grado 1, el polinomio de grado 2, el\n",
        "polinomio de grado 4 y el polinomio de grado 6.\n"
      ],
      "metadata": {
        "id": "5Z2rT5xA04ex"
      }
    },
    {
      "cell_type": "markdown",
      "source": [
        "$$f(x) = e^{2x}Cos{2x}$$\n",
        "$$x_{0} = 0$$\n",
        "\n",
        "$$P_{3}(x) = f(x_{0}) + f^{'}(x_{0})(x-x_{0}) + f^{''}(x_{0})\\frac{(x-x_{0})^2}{2!} + f^{'''}(x_{0})\\frac{(x-x_{0})^3}{3!}$$"
      ],
      "metadata": {
        "id": "aRAqSNHYcxPN"
      }
    },
    {
      "cell_type": "code",
      "execution_count": null,
      "metadata": {
        "colab": {
          "base_uri": "https://localhost:8080/"
        },
        "id": "dnbpUJKJcu2J",
        "outputId": "fa455c0d-ca1c-435d-e336-0147fe64bfd1"
      },
      "outputs": [
        {
          "output_type": "stream",
          "name": "stdout",
          "text": [
            "Derivadas: \n",
            "\n",
            "1 -2*exp(2*x)*sin(2*x) + 2*exp(2*x)*cos(2*x)\n",
            "2 -8*exp(2*x)*sin(2*x)\n",
            "3 -16*(sin(2*x) + cos(2*x))*exp(2*x)\n",
            "4 -64*exp(2*x)*cos(2*x)\n",
            "5 128*(sin(2*x) - cos(2*x))*exp(2*x)\n",
            "\n",
            "Evaluar las funciones: \n",
            "\n",
            "0 1.0\n",
            "1 2.0\n",
            "2 -0.0\n",
            "3 -16.0\n"
          ]
        }
      ],
      "source": [
        "import sympy as sp\n",
        "x = sp.Symbol(\"x\")\n",
        "f = sp.exp(2*x)*sp.cos(2*x)\n",
        "\n",
        "print(\"Derivadas: \")\n",
        "print(\"\")\n",
        "#ejemplo: ff = sp.cos(x)\n",
        "for i in range(1,6):    #Forma analatica: me devuelve una función\n",
        "  df = sp.diff(f,x,i)\n",
        "  print(i, df)\n",
        "\n",
        "print(\"\")\n",
        "print(\"Evaluar las funciones: \")\n",
        "print(\"\")\n",
        "\n",
        "for i in range(4):  #Evaluar la función y sus derivadas\n",
        "  dfe  = sp.lambdify(x,sp.diff(f,x,i))\n",
        "  print(i, dfe(0))\n"
      ]
    },
    {
      "cell_type": "markdown",
      "source": [
        "## Remplazar en el polinomio las derivadas\n",
        "\n",
        "$$P_{3}(x) = 1 + 2(x-x_{0}) + 0\\frac{(x-x_{0})^2}{2!} - 16 \\frac{(x-x_{0})^3}{3!}$$\n",
        "\n",
        "$$x_{0} = 0$$\n",
        "\n",
        "$$f(x) = 1 + 2x - \\frac{16x^{3}}{3!} $$"
      ],
      "metadata": {
        "id": "hkCljExhh4tQ"
      }
    },
    {
      "cell_type": "markdown",
      "source": [
        "### Cota\n",
        "\n",
        "$$R_{n}(x) = f^{n+1}(λ)\\frac{(x+x_{0})^{n+1}}{n+1!}$$\n",
        "\n",
        "λ = entre $x$ y $x_{0}$\n",
        "\n",
        "$x_{0} = 0 $\n",
        "\n",
        "$x = 0.5$ por el enunciado\n",
        "\n",
        "$$R_{3} = |f^{4}\\frac{x^{4}}{4!}| = |\\frac{x^{4}}{4!}||f^{4}(λ)|$$\n",
        "\n",
        "Tenemos que maximzar la función $f^{4}(λ)$\n",
        "\n",
        "h(x) = Puntos Criticos\n",
        "\n",
        "h'(x) = 0\n",
        "\n",
        "$$f^{5}(x) = 128e^{2x}(sen2x - cos2x) = 0  $$\n",
        "\n",
        "$$128e^{2x} siempre-sera - diferente- de:0$$\n",
        "\n",
        "pasamos el $128e^{2x}$ a dividir y nos queda:\n",
        "\n",
        "$$ sen2x - cos2x = 0$$\n",
        "\n",
        "$$sen2x = cos2x$$\n",
        "\n",
        "$$tan2x = 1$$\n",
        "\n",
        "$$2x = tan^{-1}(1) = \\frac{π}{4}$$\n",
        "\n",
        "$$x = \\frac{π}{8} = 0.39$$\n",
        "\n",
        "Ahora evaular en la cuarta derivada los tres puntos que tenemos: 0 --- 0.5 --- 0.39\n",
        "\n",
        "$$f^{4}(x) = -64e^{2x}Cos2x$$\n",
        "\n",
        "$$f^{4}(0) = 64$$\n",
        "\n",
        "$$f^{4}(0.5) = 93.99$$\n",
        "\n",
        "$$f^{4}(0.39) = 99.25$$\n",
        "\n",
        "Seleccionamos el mayor\n",
        "\n",
        "$$R_{3}(x) = \\frac{x^{4}}{4!} * 99.25$$\n",
        "\n",
        "$$R_{3}(0.5) = 0.2584$$\n"
      ],
      "metadata": {
        "id": "B_b2qPYNjcvY"
      }
    },
    {
      "cell_type": "markdown",
      "source": [
        "---\n",
        "\n",
        "###Codigo\n",
        "\n",
        "tenemos que programar esta sumatoria (taylor)\n",
        "\n",
        "\n",
        "$$\\sum_{k=1}^{n}\\frac{f^{(x)}+(x_{0})}{k!}(x-x_{0})^k$$\n",
        "\n",
        "---"
      ],
      "metadata": {
        "id": "Du4VQtHzoXTE"
      }
    },
    {
      "cell_type": "code",
      "source": [
        "#Graficar el polinomio\n",
        "\n",
        "import sympy as sp\n",
        "import numpy as np\n",
        "from math import factorial\n",
        "x = sp.symbols(\"x\")\n",
        "x0 = 0\n",
        "\n",
        "def taylor(f,x0,n): #Sumatoria\n",
        "  p = 0\n",
        "  for k in range(n+1):\n",
        "    df=sp.diff(f,x,k)\n",
        "    df=sp.lambdify(x,df)\n",
        "    co=df(x0)*(x-x0)**k/factorial(k)\n",
        "    p = p + co\n",
        "\n",
        "  return p\n",
        "\n",
        "f = sp.exp(2*x)*sp.cos(2*x)\n",
        "print(\"Polinomio: \", taylor(f,0,3))\n",
        "\n",
        "\n",
        "def cota(f,px,x0,n):\n",
        "  M=max(x0,px)\n",
        "  m=min(x0,px)\n",
        "  w=np.linspace(m,M,1000)\n",
        "  dfn = sp.lambdify(x,sp.diff(f,x,n+1))\n",
        "  ma = np.max(np.abs(dfn(w)))\n",
        "  c = ma*(px-x0)**(n+1)/factorial(n+1)\n",
        "  return c\n",
        "\n",
        "print(\"cota: \", cota(f,0.5,x0,3))"
      ],
      "metadata": {
        "colab": {
          "base_uri": "https://localhost:8080/"
        },
        "id": "T2IqgHwqnuiL",
        "outputId": "ea1f1870-11b3-4f00-89aa-a60ae1f1059b"
      },
      "execution_count": null,
      "outputs": [
        {
          "output_type": "stream",
          "name": "stdout",
          "text": [
            "Polinomio:  -2.66666666666667*x**3 + 2.0*x + 1.0\n",
            "cota:  0.25848049397264544\n"
          ]
        }
      ]
    }
  ]
}